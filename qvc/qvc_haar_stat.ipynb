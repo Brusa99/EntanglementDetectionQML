{
 "cells": [
  {
   "cell_type": "markdown",
   "metadata": {},
   "source": [
    "# Quantum Variational Circuit\n",
    "In this notebook we will implement a quantum variational circuit (QVC), we use it as a binary classificator for detecting entanglement in a quantum state."
   ]
  },
  {
   "cell_type": "code",
   "execution_count": 2,
   "metadata": {},
   "outputs": [],
   "source": [
    "import numpy as np\n",
    "import torch\n",
    "from torch.nn.functional import relu\n",
    "\n",
    "from sklearn.svm import SVC\n",
    "from sklearn.datasets import load_iris\n",
    "from sklearn.preprocessing import StandardScaler\n",
    "from sklearn.model_selection import train_test_split\n",
    "from sklearn.metrics import accuracy_score\n",
    "\n",
    "import pennylane as qml\n",
    "from pennylane.templates import AngleEmbedding, StronglyEntanglingLayers\n",
    "from pennylane.operation import Tensor\n",
    "\n",
    "import matplotlib.pyplot as plt\n",
    "import pandas as pd\n",
    "\n",
    "np.random.seed(42)"
   ]
  },
  {
   "cell_type": "markdown",
   "metadata": {},
   "source": [
    "## Dataset\n",
    "\n",
    "The dataset contains 10,000 examples consisting of 10 features and a binary label: _sep_. The feature are rappresente as observable generated from a determined quantum state\n"
   ]
  },
  {
   "cell_type": "code",
   "execution_count": 33,
   "metadata": {},
   "outputs": [],
   "source": [
    "# Number of total exemples \n",
    "n_exemples = 10000\n",
    "\n",
    "# Loading dataset with pandas\n",
    "dataset = pd.read_csv('../datasets/ds_haar_op.csv')\n",
    "dataset = dataset[:n_exemples]"
   ]
  },
  {
   "cell_type": "code",
   "execution_count": 34,
   "metadata": {},
   "outputs": [],
   "source": [
    "# Dividing dataset in features and label\n",
    "X = dataset.to_numpy(dtype=np.csingle)[:,0:16]\n",
    "y = dataset.to_numpy()[:,-1]\n",
    "\n",
    "# Redifining labels on -1,1\n",
    "y = np.array(2 * (y - 0.5),dtype=int)"
   ]
  },
  {
   "cell_type": "code",
   "execution_count": 35,
   "metadata": {},
   "outputs": [
    {
     "name": "stdout",
     "output_type": "stream",
     "text": [
      "Train size: 8000\n",
      "Test size: 2000\n"
     ]
    }
   ],
   "source": [
    "# Spliting dataset in training and test\n",
    "X_train, X_test, y_train, y_test = train_test_split(X, y,train_size=0.8)\n",
    "print(f\"Train size: {len(X_train)}\")\n",
    "print(f\"Test size: {len(X_test)}\")"
   ]
  },
  {
   "cell_type": "code",
   "execution_count": 42,
   "metadata": {},
   "outputs": [
    {
     "name": "stdout",
     "output_type": "stream",
     "text": [
      "Number of Qbits:  4\n"
     ]
    }
   ],
   "source": [
    "# Setting the number of qbits the same as the number of features\n",
    "n_qubits = 4\n",
    "print(\"Number of Qbits: \",n_qubits)"
   ]
  },
  {
   "cell_type": "markdown",
   "metadata": {},
   "source": [
    "## Quantum Circuit"
   ]
  },
  {
   "cell_type": "code",
   "execution_count": 45,
   "metadata": {},
   "outputs": [],
   "source": [
    "dev_var = qml.device(\"lightning.qubit\", wires=n_qubits)\n",
    "\n",
    "@qml.qnode(dev_var, diff_method=\"parameter-shift\")\n",
    "def quantum_model(x, params):\n",
    "    \"\"\"A variational quantum model.\"\"\"\n",
    "\n",
    "    # embedding\n",
    "    qml.AmplitudeEmbedding(x,wires=range(n_qubits),normalize=True)\n",
    "\n",
    "    # trainable measurement\n",
    "    StronglyEntanglingLayers(params, wires=range(n_qubits))\n",
    "    return qml.expval(qml.PauliZ(0))"
   ]
  },
  {
   "cell_type": "markdown",
   "metadata": {},
   "source": [
    "## Functions"
   ]
  },
  {
   "cell_type": "code",
   "execution_count": 22,
   "metadata": {},
   "outputs": [],
   "source": [
    "def quantum_model_plus_bias(x, params, bias):\n",
    "    \"\"\"Adding a bias.\"\"\"\n",
    "    return quantum_model(x, params) + bias\n",
    "\n",
    "def hinge_loss(predictions, targets):\n",
    "    \"\"\"Implements the hinge loss.\"\"\"\n",
    "    all_ones = torch.ones_like(targets)\n",
    "    hinge_loss = all_ones - predictions * targets\n",
    "    # trick: since the max(0,x) function is not differentiable,\n",
    "    # use the mathematically equivalent relu instead\n",
    "    hinge_loss = relu(hinge_loss)\n",
    "    return hinge_loss\n",
    "\n",
    "def quantum_model_train(n_layers, steps, batch_size):\n",
    "    \"\"\"Train the quantum model defined above.\"\"\"\n",
    "\n",
    "    params = np.random.random((n_layers, n_qubits, 3))\n",
    "    params_torch = torch.tensor(params, requires_grad=True)\n",
    "    bias_torch = torch.tensor(0.0)\n",
    "\n",
    "    opt = torch.optim.Adam([params_torch, bias_torch], lr=0.1)\n",
    "\n",
    "    loss_history = []\n",
    "    for i in range(steps):\n",
    "\n",
    "        batch_ids = np.random.choice(len(X_train), batch_size)\n",
    "\n",
    "        X_batch = X_train[batch_ids]\n",
    "        y_batch = y_train[batch_ids]\n",
    "\n",
    "        X_batch_torch = torch.tensor(X_batch, requires_grad=False)\n",
    "        y_batch_torch = torch.tensor(y_batch, requires_grad=False)\n",
    "\n",
    "        def closure():\n",
    "            opt.zero_grad()\n",
    "            preds = torch.stack(\n",
    "                [quantum_model_plus_bias(x, params_torch, bias_torch) for x in X_batch_torch]\n",
    "            )\n",
    "            loss = torch.mean(hinge_loss(preds, y_batch_torch))\n",
    "\n",
    "            # bookkeeping\n",
    "            current_loss = loss.detach().numpy().item()\n",
    "            loss_history.append(current_loss)\n",
    "            if i % 10 == 0:\n",
    "                print(\"step\", i, \", loss\", current_loss)\n",
    "\n",
    "            loss.backward()\n",
    "            return loss\n",
    "\n",
    "        opt.step(closure)\n",
    "\n",
    "    return params_torch, bias_torch, loss_history\n",
    "\n",
    "\n",
    "def quantum_model_predict(X_pred, trained_params, trained_bias):\n",
    "    \"\"\"Predict using the quantum model defined above.\"\"\"\n",
    "\n",
    "    p = []\n",
    "    for x in X_pred:\n",
    "\n",
    "        x_torch = torch.tensor(x)\n",
    "        pred_torch = quantum_model_plus_bias(x_torch, trained_params, trained_bias)\n",
    "        pred = pred_torch.detach().numpy().item()\n",
    "        if pred > 0:\n",
    "            pred = 1\n",
    "        else:\n",
    "            pred = -1\n",
    "\n",
    "        p.append(pred)\n",
    "    return p"
   ]
  },
  {
   "cell_type": "markdown",
   "metadata": {},
   "source": [
    "## Training and test"
   ]
  },
  {
   "cell_type": "code",
   "execution_count": 48,
   "metadata": {},
   "outputs": [
    {
     "name": "stdout",
     "output_type": "stream",
     "text": [
      "step 0 , loss 0.9771198217840095\n",
      "step 10 , loss 0.986013220940344\n",
      "step 20 , loss 0.9206180958077248\n",
      "step 30 , loss 0.9242016699061664\n",
      "step 40 , loss 0.9044649812637946\n",
      "step 50 , loss 1.0060533966083773\n",
      "step 60 , loss 1.0932785473409719\n",
      "step 70 , loss 0.9768281294992265\n",
      "step 80 , loss 1.0117360465944454\n",
      "step 90 , loss 0.9417839166057203\n",
      "accuracy on test set: 0.4875\n"
     ]
    },
    {
     "data": {
      "image/png": "[encoded data removed]",
      "text/plain": [
       "<Figure size 640x480 with 1 Axes>"
      ]
     },
     "metadata": {},
     "output_type": "display_data"
    }
   ],
   "source": [
    "n_layers = 4\n",
    "batch_size = 20\n",
    "steps = 100\n",
    "trained_params, trained_bias, loss_history = quantum_model_train(n_layers, steps, batch_size)\n",
    "\n",
    "pred_test = quantum_model_predict(X_test, trained_params, trained_bias)\n",
    "print(\"accuracy on test set:\", accuracy_score(pred_test, y_test))\n",
    "\n",
    "plt.plot(loss_history)\n",
    "plt.ylim((0.4, 1.3))\n",
    "plt.xlabel(\"steps\")\n",
    "plt.ylabel(\"cost\")\n",
    "plt.show()"
   ]
  },
  {
   "cell_type": "code",
   "execution_count": null,
   "metadata": {},
   "outputs": [],
   "source": []
  }
 ],
 "metadata": {
  "kernelspec": {
   "display_name": "Python 3",
   "language": "python",
   "name": "python3"
  },
  "language_info": {
   "codemirror_mode": {
    "name": "ipython",
    "version": 3
   },
   "file_extension": ".py",
   "mimetype": "text/x-python",
   "name": "python",
   "nbconvert_exporter": "python",
   "pygments_lexer": "ipython3",
   "version": "3.10.12"
  }
 },
 "nbformat": 4,
 "nbformat_minor": 2
}
