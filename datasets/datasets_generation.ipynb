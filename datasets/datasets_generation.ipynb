{
 "cells": [
  {
   "cell_type": "markdown",
   "source": [
    "# Datasets Generations\n",
    "\n",
    "In this notebook, we will generate the datasets for the experiments. We will generate the following datasets:\n",
    "\n",
    "- `ds_haar_op` - Dataset of operators uniformly sampled from the Haar measure on the unitary group. With labels indicating if the operator is separable or entangled.\n",
    "- `ds_haar_obs` - Dataset obtained from the previous one by applying projections on a bell state to each operator."
   ],
   "metadata": {
    "collapsed": false
   },
   "id": "d40822cf889e167c"
  },
  {
   "cell_type": "code",
   "execution_count": null,
   "outputs": [],
   "source": [
    "# imports\n",
    "import csv\n",
    "from qiskit import QuantumCircuit\n",
    "import numpy as np\n",
    "from qiskit.quantum_info import random_unitary, Operator, DensityMatrix, schmidt_decomposition"
   ],
   "metadata": {
    "collapsed": false
   },
   "id": "39a1c34cc0c4c85c"
  },
  {
   "cell_type": "code",
   "execution_count": null,
   "outputs": [],
   "source": [
    "# generation functions\n",
    "\n",
    "def gen_2qubit_datapoint():\n",
    "    \"\"\"Generate a datapoint for a 2-qubit system.\n",
    "\n",
    "    To generate the datapoint one of two methods is chosen randomly:\n",
    "    1. A random 4x4 unitary matrix is generated and applied to a 2-qubit quantum circuit.\n",
    "    2. Two random 2x2 unitary matrices are generated and their tensor product is applied to a 2-qubit quantum circuit.\n",
    "    The density matrix of the resulting state is then calculated and the Schmidt rank is used to determine\n",
    "    if the state is separable or entangled. (If the Schmidt rank is 1, the state is separable.)\n",
    "\n",
    "    Returns:\n",
    "        *x, sep (tuple): A tuple containing the coefficients of the unitary matrices and a boolean indicating if the\n",
    "                         state is separable.\n",
    "    \"\"\"\n",
    "    # randomly choose between two generation methods\n",
    "    if np.random.rand() >= 0.5:\n",
    "        # generate a random 4x4 unitary matrix\n",
    "        unitary_op = random_unitary(4)\n",
    "    else:\n",
    "        # generate a separable state by applying two random 2x2 unitary matrices\n",
    "        Ua = random_unitary(2)\n",
    "        Ub = random_unitary(2)\n",
    "        unitary_op = Operator(np.kron(Ua, Ub))\n",
    "    qc = QuantumCircuit(2)\n",
    "    qc.unitary(unitary_op, [0, 1])\n",
    "\n",
    "    # get coefficients of the unitary matrix\n",
    "    x = unitary_op.data.flatten().tolist()\n",
    "\n",
    "    # determine entanglement\n",
    "    rho = DensityMatrix.from_instruction(qc)\n",
    "    sep = len(schmidt_decomposition(rho, [0])) == 1\n",
    "    return *x, sep"
   ],
   "metadata": {
    "collapsed": false
   },
   "id": "5871ce735c441e39"
  },
  {
   "cell_type": "code",
   "execution_count": null,
   "outputs": [],
   "source": [
    "# pauli matrices\n",
    "identity = np.eye(2)\n",
    "pauliX = np.array([[0, 1], [1, 0]])\n",
    "pauliY = np.array([[0, -1j], [1j, 0]])\n",
    "pauliZ = np.array([[1, 0], [0, -1]])\n",
    "\n",
    "\n",
    "# projectors\n",
    "projector_1 = 1/4 * (identity + 1/np.sqrt(3) * (pauliX + pauliY + pauliZ))\n",
    "projector_2 = 1/4 * (identity + 1/np.sqrt(3) * (pauliX - pauliY - pauliZ))\n",
    "projector_3 = 1/4 * (identity + 1/np.sqrt(3) * (-pauliX + pauliY - pauliZ))\n",
    "projector_4 = 1/4 * (identity + 1/np.sqrt(3) * (-pauliX - pauliY + pauliZ))\n",
    "\n",
    "\n",
    "# bell states\n",
    "def psi_plus():\n",
    "    \"\"\"Return the density matrix of the psi plus bell state.\"\"\"\n",
    "\n",
    "    ket = (np.kron(np.array([1, 0]), np.array([0, 1])) + np.kron(np.array([0, 1]), np.array([1, 0]))) / np.sqrt(2)\n",
    "    return np.outer(ket, ket)\n",
    "\n",
    "\n",
    "def psi_minus():\n",
    "    \"\"\"Return the density matrix of the psi minus bell state.\"\"\"\n",
    "\n",
    "    ket = (np.kron(np.array([1, 0]), np.array([0, 1])) - np.kron(np.array([0, 1]), np.array([1, 0]))) / np.sqrt(2)\n",
    "    return np.outer(ket, ket)\n",
    "\n",
    "\n",
    "# projection\n",
    "def Pxy(density_matrix, observablex, observabley):\n",
    "    \"\"\"The probability of succesfully projecting on a bell state the collective measures a pair of local projections.\"\"\"\n",
    "\n",
    "    # Project on the psi minus bell state\n",
    "    bell_state = psi_minus()\n",
    "    projection_on_bs = np.kron(np.kron(observablex, bell_state), observabley)\n",
    "\n",
    "    # Project on the identity to normalize the probability\n",
    "    projection_on_id = np.kron(np.kron(observablex, np.eye(4)), observabley)\n",
    "\n",
    "    # Calculate the probability\n",
    "    rho_T = np.kron(density_matrix, density_matrix)\n",
    "    up = np.trace(np.dot(rho_T, projection_on_bs))\n",
    "    down = np.trace(np.dot(rho_T, projection_on_id))\n",
    "\n",
    "    # the probability is the real part of the trace (complex part should be 0 but numerical errors can occur)\n",
    "    prob = up / down\n",
    "    return prob.real"
   ],
   "metadata": {
    "collapsed": false
   },
   "id": "ce6b29ddab397a72"
  },
  {
   "cell_type": "code",
   "execution_count": null,
   "outputs": [],
   "source": [
    "# transformation functions\n",
    "\n",
    "def get_density_matrix_from_datapoint(datapoint):\n",
    "    \"\"\"Return the density matrix (as array) of a datapoint.\"\"\"\n",
    "\n",
    "    operator = get_operator_from_datapoint(datapoint)\n",
    "    qc = QuantumCircuit(2)\n",
    "    qc.append(operator, [0, 1])\n",
    "    return qi.DensityMatrix.from_instruction(qc).data\n",
    "\n",
    "\n",
    "def get_new_features(datapoint):\n",
    "    \"\"\"Obtain a datapoint with the expectation values of the projectors and the label from a (old) datapoint.\"\"\"\n",
    "    new_x = []\n",
    "    density_matrix = get_density_matrix_from_datapoint(datapoint)\n",
    "    proj_combinations = [(projector_1, projector_1),\n",
    "                         (projector_2, projector_2),\n",
    "                         (projector_3, projector_3),\n",
    "                         (projector_4, projector_4),\n",
    "                         (projector_1, projector_3),\n",
    "                         (projector_1, projector_4),\n",
    "                         (projector_2, projector_4),\n",
    "                         (projector_1, projector_2),\n",
    "                         (projector_2, projector_3),\n",
    "                         (projector_3, projector_4),\n",
    "                         ]\n",
    "    # measure the combinations of projectors\n",
    "    for p1, p2 in proj_combinations:\n",
    "        new_x.append(Pxy(density_matrix, p1, p2))\n",
    "\n",
    "    # also return the label\n",
    "    return *new_x, datapoint[-1]"
   ],
   "metadata": {
    "collapsed": false
   },
   "id": "79ec6ce99a570aca"
  },
  {
   "cell_type": "markdown",
   "source": [
    "## Generation"
   ],
   "metadata": {
    "collapsed": false
   },
   "id": "4fbdac7043b2a6a9"
  },
  {
   "cell_type": "code",
   "execution_count": null,
   "outputs": [],
   "source": [
    "dataset = [gen_2qubit_datapoint() for _ in range(10_000)]\n",
    "\n",
    "print(f\"Dataset size: {len(dataset)}\")\n",
    "print(f\"Entangled states: {sum([1 for datapoint in dataset if datapoint[-1]])}\")\n",
    "print(f\"Non-entangled states: {sum([1 for datapoint in dataset if not datapoint[-1]])}\")\n",
    "print(f\"len datapoint = {len(dataset[0])}\")"
   ],
   "metadata": {
    "collapsed": false
   },
   "id": "1bec439c134e696d"
  },
  {
   "cell_type": "code",
   "execution_count": null,
   "outputs": [],
   "source": [
    "filepath = \"dataset.csv\"\n",
    "\n",
    "with open(filepath, \"w\") as f:\n",
    "    writer = csv.writer(f)\n",
    "    writer.writerow([\"U11\", \"U12\", \"U13\", \"U14\",\n",
    "                     \"U21\", \"U22\", \"U23\", \"U24\",\n",
    "                     \"U31\", \"U32\", \"U33\", \"U34\",\n",
    "                     \"U41\", \"U42\", \"U43\", \"U44\",\n",
    "                     \"sep\"])\n",
    "    writer.writerows(dataset)"
   ],
   "metadata": {
    "collapsed": false
   },
   "id": "540617082f0adc8e"
  }
 ],
 "metadata": {
  "kernelspec": {
   "display_name": "Python 3",
   "language": "python",
   "name": "python3"
  },
  "language_info": {
   "codemirror_mode": {
    "name": "ipython",
    "version": 2
   },
   "file_extension": ".py",
   "mimetype": "text/x-python",
   "name": "python",
   "nbconvert_exporter": "python",
   "pygments_lexer": "ipython2",
   "version": "2.7.6"
  }
 },
 "nbformat": 4,
 "nbformat_minor": 5
}
