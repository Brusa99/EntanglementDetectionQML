{
 "cells": [
  {
   "cell_type": "markdown",
   "metadata": {},
   "source": [
    "# Quantum Support Vector Machine\n",
    "\n",
    "This notebook is similar to `qsvm_haar_obs`, but we use pennylane instead of qiskit for the quantum circuit.\\\n",
    "The same general observation are valid here so we suggest to first read that notebook and than come back here to have a implementation of a qsvm in pennylane.\n"
   ]
  },
  {
   "cell_type": "code",
   "execution_count": 20,
   "metadata": {},
   "outputs": [],
   "source": [
    "# imports\n",
    "\n",
    "import numpy as np\n",
    "\n",
    "from sklearn.svm import SVC\n",
    "from sklearn.datasets import load_iris\n",
    "from sklearn.preprocessing import StandardScaler\n",
    "from sklearn.model_selection import train_test_split\n",
    "from sklearn.metrics import accuracy_score\n",
    "\n",
    "import pennylane as qml\n",
    "from pennylane.templates import AngleEmbedding, IQPEmbedding\n",
    "\n",
    "import matplotlib.pyplot as plt\n",
    "import pandas as pd\n",
    "\n",
    "np.random.seed(42)"
   ]
  },
  {
   "cell_type": "markdown",
   "metadata": {},
   "source": [
    "# Dataset"
   ]
  },
  {
   "cell_type": "code",
   "execution_count": 23,
   "metadata": {},
   "outputs": [
    {
     "data": {
      "text/html": [
       "<div>\n",
       "<style scoped>\n",
       "    .dataframe tbody tr th:only-of-type {\n",
       "        vertical-align: middle;\n",
       "    }\n",
       "\n",
       "    .dataframe tbody tr th {\n",
       "        vertical-align: top;\n",
       "    }\n",
       "\n",
       "    .dataframe thead th {\n",
       "        text-align: right;\n",
       "    }\n",
       "</style>\n",
       "<table border=\"1\" class=\"dataframe\">\n",
       "  <thead>\n",
       "    <tr style=\"text-align: right;\">\n",
       "      <th></th>\n",
       "      <th>P11</th>\n",
       "      <th>P22</th>\n",
       "      <th>P33</th>\n",
       "      <th>P44</th>\n",
       "      <th>P13</th>\n",
       "      <th>P14</th>\n",
       "      <th>P24</th>\n",
       "      <th>P12</th>\n",
       "      <th>P23</th>\n",
       "      <th>P34</th>\n",
       "      <th>sep</th>\n",
       "    </tr>\n",
       "  </thead>\n",
       "  <tbody>\n",
       "    <tr>\n",
       "      <th>0</th>\n",
       "      <td>0.363562</td>\n",
       "      <td>0.363562</td>\n",
       "      <td>0.363562</td>\n",
       "      <td>0.363562</td>\n",
       "      <td>0.363562</td>\n",
       "      <td>0.363562</td>\n",
       "      <td>0.363562</td>\n",
       "      <td>0.363562</td>\n",
       "      <td>0.363562</td>\n",
       "      <td>0.363562</td>\n",
       "      <td>True</td>\n",
       "    </tr>\n",
       "    <tr>\n",
       "      <th>1</th>\n",
       "      <td>0.478920</td>\n",
       "      <td>0.478920</td>\n",
       "      <td>0.478920</td>\n",
       "      <td>0.478920</td>\n",
       "      <td>0.478920</td>\n",
       "      <td>0.478920</td>\n",
       "      <td>0.478920</td>\n",
       "      <td>0.478920</td>\n",
       "      <td>0.478920</td>\n",
       "      <td>0.478920</td>\n",
       "      <td>True</td>\n",
       "    </tr>\n",
       "    <tr>\n",
       "      <th>2</th>\n",
       "      <td>0.176573</td>\n",
       "      <td>0.067155</td>\n",
       "      <td>0.055469</td>\n",
       "      <td>0.062003</td>\n",
       "      <td>0.256511</td>\n",
       "      <td>0.179351</td>\n",
       "      <td>0.105687</td>\n",
       "      <td>0.311796</td>\n",
       "      <td>0.154631</td>\n",
       "      <td>0.023350</td>\n",
       "      <td>False</td>\n",
       "    </tr>\n",
       "    <tr>\n",
       "      <th>3</th>\n",
       "      <td>0.022839</td>\n",
       "      <td>0.022839</td>\n",
       "      <td>0.022839</td>\n",
       "      <td>0.022839</td>\n",
       "      <td>0.022839</td>\n",
       "      <td>0.022839</td>\n",
       "      <td>0.022839</td>\n",
       "      <td>0.022839</td>\n",
       "      <td>0.022839</td>\n",
       "      <td>0.022839</td>\n",
       "      <td>True</td>\n",
       "    </tr>\n",
       "    <tr>\n",
       "      <th>4</th>\n",
       "      <td>0.139089</td>\n",
       "      <td>0.347255</td>\n",
       "      <td>0.249997</td>\n",
       "      <td>0.201476</td>\n",
       "      <td>0.491367</td>\n",
       "      <td>0.382842</td>\n",
       "      <td>0.488343</td>\n",
       "      <td>0.233877</td>\n",
       "      <td>0.272572</td>\n",
       "      <td>0.224575</td>\n",
       "      <td>False</td>\n",
       "    </tr>\n",
       "    <tr>\n",
       "      <th>...</th>\n",
       "      <td>...</td>\n",
       "      <td>...</td>\n",
       "      <td>...</td>\n",
       "      <td>...</td>\n",
       "      <td>...</td>\n",
       "      <td>...</td>\n",
       "      <td>...</td>\n",
       "      <td>...</td>\n",
       "      <td>...</td>\n",
       "      <td>...</td>\n",
       "      <td>...</td>\n",
       "    </tr>\n",
       "    <tr>\n",
       "      <th>295</th>\n",
       "      <td>0.424427</td>\n",
       "      <td>0.390971</td>\n",
       "      <td>0.369876</td>\n",
       "      <td>0.342670</td>\n",
       "      <td>0.374604</td>\n",
       "      <td>0.352137</td>\n",
       "      <td>0.370930</td>\n",
       "      <td>0.373050</td>\n",
       "      <td>0.392173</td>\n",
       "      <td>0.348748</td>\n",
       "      <td>False</td>\n",
       "    </tr>\n",
       "    <tr>\n",
       "      <th>296</th>\n",
       "      <td>0.005306</td>\n",
       "      <td>0.014902</td>\n",
       "      <td>0.001897</td>\n",
       "      <td>0.013286</td>\n",
       "      <td>0.482572</td>\n",
       "      <td>0.257956</td>\n",
       "      <td>0.106949</td>\n",
       "      <td>0.295851</td>\n",
       "      <td>0.251066</td>\n",
       "      <td>0.157335</td>\n",
       "      <td>False</td>\n",
       "    </tr>\n",
       "    <tr>\n",
       "      <th>297</th>\n",
       "      <td>0.374043</td>\n",
       "      <td>0.374043</td>\n",
       "      <td>0.374043</td>\n",
       "      <td>0.374043</td>\n",
       "      <td>0.374043</td>\n",
       "      <td>0.374043</td>\n",
       "      <td>0.374043</td>\n",
       "      <td>0.374043</td>\n",
       "      <td>0.374043</td>\n",
       "      <td>0.374043</td>\n",
       "      <td>True</td>\n",
       "    </tr>\n",
       "    <tr>\n",
       "      <th>298</th>\n",
       "      <td>0.178382</td>\n",
       "      <td>0.178382</td>\n",
       "      <td>0.178382</td>\n",
       "      <td>0.178382</td>\n",
       "      <td>0.178382</td>\n",
       "      <td>0.178382</td>\n",
       "      <td>0.178382</td>\n",
       "      <td>0.178382</td>\n",
       "      <td>0.178382</td>\n",
       "      <td>0.178382</td>\n",
       "      <td>True</td>\n",
       "    </tr>\n",
       "    <tr>\n",
       "      <th>299</th>\n",
       "      <td>0.275740</td>\n",
       "      <td>0.430006</td>\n",
       "      <td>0.149204</td>\n",
       "      <td>0.133016</td>\n",
       "      <td>0.282369</td>\n",
       "      <td>0.279417</td>\n",
       "      <td>0.457058</td>\n",
       "      <td>0.149735</td>\n",
       "      <td>0.364693</td>\n",
       "      <td>0.271670</td>\n",
       "      <td>False</td>\n",
       "    </tr>\n",
       "  </tbody>\n",
       "</table>\n",
       "<p>300 rows × 11 columns</p>\n",
       "</div>"
      ],
      "text/plain": [
       "          P11       P22       P33       P44       P13       P14       P24  \\\n",
       "0    0.363562  0.363562  0.363562  0.363562  0.363562  0.363562  0.363562   \n",
       "1    0.478920  0.478920  0.478920  0.478920  0.478920  0.478920  0.478920   \n",
       "2    0.176573  0.067155  0.055469  0.062003  0.256511  0.179351  0.105687   \n",
       "3    0.022839  0.022839  0.022839  0.022839  0.022839  0.022839  0.022839   \n",
       "4    0.139089  0.347255  0.249997  0.201476  0.491367  0.382842  0.488343   \n",
       "..        ...       ...       ...       ...       ...       ...       ...   \n",
       "295  0.424427  0.390971  0.369876  0.342670  0.374604  0.352137  0.370930   \n",
       "296  0.005306  0.014902  0.001897  0.013286  0.482572  0.257956  0.106949   \n",
       "297  0.374043  0.374043  0.374043  0.374043  0.374043  0.374043  0.374043   \n",
       "298  0.178382  0.178382  0.178382  0.178382  0.178382  0.178382  0.178382   \n",
       "299  0.275740  0.430006  0.149204  0.133016  0.282369  0.279417  0.457058   \n",
       "\n",
       "          P12       P23       P34    sep  \n",
       "0    0.363562  0.363562  0.363562   True  \n",
       "1    0.478920  0.478920  0.478920   True  \n",
       "2    0.311796  0.154631  0.023350  False  \n",
       "3    0.022839  0.022839  0.022839   True  \n",
       "4    0.233877  0.272572  0.224575  False  \n",
       "..        ...       ...       ...    ...  \n",
       "295  0.373050  0.392173  0.348748  False  \n",
       "296  0.295851  0.251066  0.157335  False  \n",
       "297  0.374043  0.374043  0.374043   True  \n",
       "298  0.178382  0.178382  0.178382   True  \n",
       "299  0.149735  0.364693  0.271670  False  \n",
       "\n",
       "[300 rows x 11 columns]"
      ]
     },
     "execution_count": 23,
     "metadata": {},
     "output_type": "execute_result"
    }
   ],
   "source": [
    "# Number of total exemples \n",
    "n_exemples = 300\n",
    "\n",
    "# Loading dataset with pandas\n",
    "dataset = pd.read_csv('../datasets/ds_haar_obs.csv')\n",
    "dataset = dataset[:n_exemples]\n",
    "dataset"
   ]
  },
  {
   "cell_type": "code",
   "execution_count": 24,
   "metadata": {},
   "outputs": [],
   "source": [
    "# Number of features\n",
    "n_features = 6\n",
    "\n",
    "# Dividing dataset in features and label\n",
    "X = dataset.to_numpy()[:,0:n_features]\n",
    "y = dataset.to_numpy()[:,-1]\n",
    "\n",
    "# Scaling the inputs \n",
    "scaler = StandardScaler().fit(X)\n",
    "X_scaled = scaler.transform(X)\n",
    "\n",
    "# Redifining labels on -1,1\n",
    "y_scaled = np.array(2 * (y - 0.5),dtype=int)"
   ]
  },
  {
   "cell_type": "code",
   "execution_count": 25,
   "metadata": {},
   "outputs": [
    {
     "name": "stdout",
     "output_type": "stream",
     "text": [
      "Train size: 240\n",
      "Test size: 60\n"
     ]
    }
   ],
   "source": [
    "# Spliting dataset in training and test\n",
    "X_train, X_test, y_train, y_test = train_test_split(X_scaled, y_scaled,train_size=0.8)\n",
    "print(f\"Train size: {len(X_train)}\")\n",
    "print(f\"Test size: {len(X_test)}\")"
   ]
  },
  {
   "cell_type": "markdown",
   "metadata": {},
   "source": [
    "# QSVM model"
   ]
  },
  {
   "cell_type": "code",
   "execution_count": 27,
   "metadata": {},
   "outputs": [],
   "source": [
    "# Setting the number of qbits the same as the number of features\n",
    "n_qubits = len(X_train[0])\n",
    "\n",
    "dev_kernel = qml.device(\"lightning.qubit\", wires=n_qubits)\n",
    "\n",
    "projector = np.zeros((2**n_qubits, 2**n_qubits))\n",
    "projector[0, 0] = 1\n",
    "\n",
    "# Definition of the quantum kernel\n",
    "@qml.qnode(dev_kernel)\n",
    "def kernel(x1, x2):\n",
    "    \"\"\"The quantum kernel.\"\"\"\n",
    "    AngleEmbedding(x1, wires=range(n_qubits))\n",
    "    qml.adjoint(AngleEmbedding)(x2, wires=range(n_qubits))\n",
    "    return qml.expval(qml.Hermitian(projector, wires=range(n_qubits)))\n"
   ]
  },
  {
   "cell_type": "code",
   "execution_count": 28,
   "metadata": {},
   "outputs": [],
   "source": [
    "def kernel_matrix(A, B):\n",
    "    \"\"\"Compute the matrix whose entries are the kernel\n",
    "       evaluated on pairwise data from sets A and B.\"\"\"\n",
    "    return np.array([[kernel(a, b) for b in B] for a in A])"
   ]
  },
  {
   "cell_type": "markdown",
   "metadata": {},
   "source": [
    "# Training and Testing"
   ]
  },
  {
   "cell_type": "code",
   "execution_count": 29,
   "metadata": {},
   "outputs": [
    {
     "data": {
      "text/plain": [
       "0.9333333333333333"
      ]
     },
     "execution_count": 29,
     "metadata": {},
     "output_type": "execute_result"
    }
   ],
   "source": [
    "# Training of the model\n",
    "svm = SVC(kernel=kernel_matrix).fit(X_train, y_train)\n",
    "# Accessing of the model\n",
    "predictions = svm.predict(X_test)\n",
    "accuracy_score(predictions, y_test)"
   ]
  },
  {
   "cell_type": "markdown",
   "metadata": {},
   "source": [
    "## Optional Encoding"
   ]
  },
  {
   "cell_type": "code",
   "execution_count": 21,
   "metadata": {},
   "outputs": [],
   "source": [
    "@qml.qnode(dev_kernel)\n",
    "def kernel(x1, x2):\n",
    "    \"\"\"The quantum kernel.\"\"\"\n",
    "    IQPEmbedding(x1, wires=range(n_qubits))\n",
    "    qml.adjoint(IQPEmbedding)(x2, wires=range(n_qubits))\n",
    "    return qml.expval(qml.Hermitian(projector, wires=range(n_qubits)))\n"
   ]
  },
  {
   "cell_type": "code",
   "execution_count": 26,
   "metadata": {},
   "outputs": [
    {
     "data": {
      "text/plain": [
       "0.9166666666666666"
      ]
     },
     "execution_count": 26,
     "metadata": {},
     "output_type": "execute_result"
    }
   ],
   "source": [
    "# Training of the model\n",
    "svm = SVC(kernel=kernel_matrix).fit(X_train, y_train)\n",
    "# Accessing of the model\n",
    "predictions = svm.predict(X_test)\n",
    "accuracy_score(predictions, y_test)"
   ]
  }
 ],
 "metadata": {
  "kernelspec": {
   "display_name": "Python 3",
   "language": "python",
   "name": "python3"
  },
  "language_info": {
   "codemirror_mode": {
    "name": "ipython",
    "version": 3
   },
   "file_extension": ".py",
   "mimetype": "text/x-python",
   "name": "python",
   "nbconvert_exporter": "python",
   "pygments_lexer": "ipython3",
   "version": "3.10.12"
  }
 },
 "nbformat": 4,
 "nbformat_minor": 2
}
