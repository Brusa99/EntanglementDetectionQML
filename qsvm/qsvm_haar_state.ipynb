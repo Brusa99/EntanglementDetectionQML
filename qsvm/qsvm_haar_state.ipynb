{
 "cells": [
  {
   "cell_type": "code",
   "execution_count": 31,
   "metadata": {},
   "outputs": [],
   "source": [
    "import pandas as pd\n",
    "import matplotlib.pyplot as plt\n",
    "\n",
    "from sklearn.model_selection import train_test_split\n",
    "from sklearn.svm import SVC\n",
    "from sklearn.metrics import accuracy_score\n",
    "\n",
    "import pennylane as qml\n",
    "from pennylane.optimize import AdamOptimizer, QNGOptimizer\n",
    "from pennylane import numpy as np\n",
    "\n",
    "# import torch as th\n",
    "# import torch.nn as nn\n",
    "\n",
    "#from qiskit.extensions import UnitaryGate\n",
    "#from qiskit import QuantumCircuit\n",
    "#import qiskit.quantum_info as qi\n",
    "\n",
    "import math\n",
    "\n",
    "from tqdm import tqdm\n",
    "\n",
    "from tqdm.auto import trange"
   ]
  },
  {
   "cell_type": "code",
   "execution_count": 37,
   "metadata": {},
   "outputs": [],
   "source": [
    "dataset = pd.read_csv(\"dataset.csv\")\n",
    "dataset = dataset[:200]\n",
    "\n",
    "dataset_ent = dataset[dataset.iloc[:, -1] == 0]\n",
    "dataset_sep = dataset[dataset.iloc[:, -1] == 1]"
   ]
  },
  {
   "cell_type": "code",
   "execution_count": 40,
   "metadata": {},
   "outputs": [
    {
     "name": "stdout",
     "output_type": "stream",
     "text": [
      "Shape of X_train: (800, 16)\n",
      "Shape of X_test: (200, 16)\n",
      "Shape of y_train: (800,)\n",
      "Shape of y_test: (200,)\n"
     ]
    }
   ],
   "source": [
    "# Drop the 17th column\n",
    "X = dataset.drop(columns=dataset.columns[16])\n",
    "\n",
    "# Separate features (X) and labels (y)\n",
    "y = dataset.iloc[:, 16]  # Assuming the label is in the 17th column (index 16)\n",
    "\n",
    "# Split the dataset into training and testing sets\n",
    "X_train, X_test, y_train, y_test = train_test_split(X, y, test_size=0.2, random_state=42)\n",
    "\n",
    "X_train = X_train.to_numpy(dtype=np.csingle)\n",
    "X_test = X_test.to_numpy(dtype=np.csingle)\n",
    "y_train = y_train.to_numpy().astype(int)\n",
    "y_test = y_test.to_numpy().astype(int)\n",
    "\n",
    "# Print the shapes of the resulting sets\n",
    "print(\"Shape of X_train:\", X_train.shape)\n",
    "print(\"Shape of X_test:\", X_test.shape)\n",
    "print(\"Shape of y_train:\", y_train.shape)\n",
    "print(\"Shape of y_test:\", y_test.shape)\n",
    "\n"
   ]
  },
  {
   "cell_type": "markdown",
   "metadata": {},
   "source": [
    "## QSVM"
   ]
  },
  {
   "cell_type": "code",
   "execution_count": 26,
   "metadata": {},
   "outputs": [],
   "source": [
    "def statepreparation(data):\n",
    "    data = np.array(data).reshape(4, 4)\n",
    "    qml.QubitUnitary(data,wires=[0,1])"
   ]
  },
  {
   "cell_type": "code",
   "execution_count": 27,
   "metadata": {},
   "outputs": [
    {
     "name": "stderr",
     "output_type": "stream",
     "text": [
      "/Users/paolodarold/opt/anaconda3/envs/QML/lib/python3.9/site-packages/pennylane_lightning/lightning_qubit/lightning_qubit.py:901: UserWarning: Pre-compiled binaries for lightning.qubit are not available. Falling back to using the Python-based default.qubit implementation. To manually compile from source, follow the instructions at https://pennylane-lightning.readthedocs.io/en/latest/installation.html.\n",
      "  warn(\n"
     ]
    }
   ],
   "source": [
    "num_qubits = 2\n",
    "\n",
    "dev_kernel = qml.device(\"lightning.qubit\", wires=num_qubits)\n",
    "\n",
    "projector = np.zeros((2**num_qubits, 2**num_qubits))\n",
    "projector[0, 0] = 1\n",
    "\n",
    "\n",
    "@qml.qnode(dev_kernel)\n",
    "def kernel(x1, x2):\n",
    "    \"\"\"The quantum kernel.\"\"\"\n",
    "    x1 = np.array(x1).reshape(4, 4)\n",
    "    x2 = np.array(x2).reshape(4, 4)\n",
    "\n",
    "    qml.QubitUnitary(x1, wires=range(num_qubits))\n",
    "    qml.adjoint(qml.QubitUnitary)(x2, wires=range(num_qubits))\n",
    "    return qml.expval(qml.Hermitian(projector, wires=range(num_qubits)))"
   ]
  },
  {
   "cell_type": "code",
   "execution_count": 28,
   "metadata": {},
   "outputs": [],
   "source": [
    "def kernel_matrix(A, B):\n",
    "    \"\"\"Compute the matrix whose entries are the kernel\n",
    "       evaluated on pairwise data from sets A and B.\"\"\"\n",
    "    return np.array([[kernel(a, b) for b in B] for a in A])"
   ]
  },
  {
   "cell_type": "code",
   "execution_count": 41,
   "metadata": {},
   "outputs": [],
   "source": [
    "svm = SVC(kernel=kernel_matrix).fit(X_train, y_train)"
   ]
  },
  {
   "cell_type": "code",
   "execution_count": 42,
   "metadata": {},
   "outputs": [
    {
     "data": {
      "text/plain": [
       "0.53125"
      ]
     },
     "execution_count": 42,
     "metadata": {},
     "output_type": "execute_result"
    }
   ],
   "source": [
    "predictions_train = svm.predict(X_train)\n",
    "accuracy_score(predictions_train, y_train)"
   ]
  },
  {
   "cell_type": "code",
   "execution_count": 43,
   "metadata": {},
   "outputs": [
    {
     "data": {
      "text/plain": [
       "0.495"
      ]
     },
     "execution_count": 43,
     "metadata": {},
     "output_type": "execute_result"
    }
   ],
   "source": [
    "predictions_test = svm.predict(X_test)\n",
    "accuracy_score(predictions_test, y_test)"
   ]
  },
  {
   "cell_type": "code",
   "execution_count": null,
   "metadata": {},
   "outputs": [],
   "source": []
  }
 ],
 "metadata": {
  "kernelspec": {
   "display_name": "QML",
   "language": "python",
   "name": "python3"
  },
  "language_info": {
   "codemirror_mode": {
    "name": "ipython",
    "version": 3
   },
   "file_extension": ".py",
   "mimetype": "text/x-python",
   "name": "python",
   "nbconvert_exporter": "python",
   "pygments_lexer": "ipython3",
   "version": "3.9.18"
  }
 },
 "nbformat": 4,
 "nbformat_minor": 2
}
