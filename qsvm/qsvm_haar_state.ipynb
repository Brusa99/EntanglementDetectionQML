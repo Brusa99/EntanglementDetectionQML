{
 "cells": [
  {
   "cell_type": "code",
   "execution_count": 1,
   "metadata": {
    "ExecuteTime": {
     "end_time": "2024-02-29T20:58:10.656640714Z",
     "start_time": "2024-02-29T20:58:10.091100316Z"
    }
   },
   "outputs": [],
   "source": [
    "import pandas as pd\n",
    "\n",
    "from sklearn.model_selection import train_test_split\n",
    "from sklearn.svm import SVC\n",
    "from sklearn.metrics import accuracy_score\n",
    "\n",
    "import pennylane as qml\n",
    "from pennylane import numpy as np"
   ]
  },
  {
   "cell_type": "markdown",
   "source": [
    "# QSVM directly on states\n",
    "\n",
    "In this notebook we try to use the QSVM algotihm directly on the states.\n",
    "\n",
    "Normally the QSVM requires a feature map to transform the data into a quantum state.\n",
    "However, in this case the data is already a quantum state, so no feature map is needed.\n",
    "\n",
    "The process is the same as the main QSVM notebook, but pennylane is used to define the kernel function.\n",
    "\n",
    "### Dataset preparation"
   ],
   "metadata": {
    "collapsed": false
   }
  },
  {
   "cell_type": "code",
   "execution_count": 2,
   "metadata": {
    "ExecuteTime": {
     "end_time": "2024-02-29T21:01:50.271409988Z",
     "start_time": "2024-02-29T21:01:50.119347794Z"
    }
   },
   "outputs": [],
   "source": [
    "dataset = pd.read_csv(\"../datasets/ds_haar_op.csv\")\n",
    "dataset = dataset[:200]\n",
    "\n",
    "dataset_ent = dataset[dataset.iloc[:, -1] == 0]\n",
    "dataset_sep = dataset[dataset.iloc[:, -1] == 1]"
   ]
  },
  {
   "cell_type": "code",
   "execution_count": 3,
   "metadata": {
    "ExecuteTime": {
     "end_time": "2024-02-29T21:01:55.597546087Z",
     "start_time": "2024-02-29T21:01:55.591016966Z"
    }
   },
   "outputs": [
    {
     "name": "stdout",
     "output_type": "stream",
     "text": [
      "Shape of X_train: (160, 16)\n",
      "Shape of X_test: (40, 16)\n",
      "Shape of y_train: (160,)\n",
      "Shape of y_test: (40,)\n"
     ]
    }
   ],
   "source": [
    "# Drop the 17th column\n",
    "X = dataset.drop(columns=dataset.columns[16])\n",
    "\n",
    "# Separate features (X) and labels (y)\n",
    "y = dataset.iloc[:, 16]  # Assuming the label is in the 17th column (index 16)\n",
    "\n",
    "# Split the dataset into training and testing sets\n",
    "X_train, X_test, y_train, y_test = train_test_split(X, y, test_size=0.2, random_state=42)\n",
    "\n",
    "X_train = X_train.to_numpy(dtype=np.csingle)\n",
    "X_test = X_test.to_numpy(dtype=np.csingle)\n",
    "y_train = y_train.to_numpy().astype(int)\n",
    "y_test = y_test.to_numpy().astype(int)\n",
    "\n",
    "# Print the shapes of the resulting sets\n",
    "print(\"Shape of X_train:\", X_train.shape)\n",
    "print(\"Shape of X_test:\", X_test.shape)\n",
    "print(\"Shape of y_train:\", y_train.shape)\n",
    "print(\"Shape of y_test:\", y_test.shape)"
   ]
  },
  {
   "cell_type": "markdown",
   "metadata": {},
   "source": [
    "### QSVM preparation"
   ]
  },
  {
   "cell_type": "code",
   "execution_count": 4,
   "metadata": {
    "ExecuteTime": {
     "end_time": "2024-02-29T21:01:58.506168034Z",
     "start_time": "2024-02-29T21:01:58.490600817Z"
    }
   },
   "outputs": [],
   "source": [
    "def statepreparation(data):\n",
    "    data = np.array(data).reshape(4, 4)\n",
    "    qml.QubitUnitary(data,wires=[0,1])"
   ]
  },
  {
   "cell_type": "code",
   "execution_count": 5,
   "metadata": {
    "ExecuteTime": {
     "end_time": "2024-02-29T21:02:01.500500635Z",
     "start_time": "2024-02-29T21:02:01.449097765Z"
    }
   },
   "outputs": [],
   "source": [
    "num_qubits = 2\n",
    "\n",
    "dev_kernel = qml.device(\"lightning.qubit\", wires=num_qubits)\n",
    "\n",
    "projector = np.zeros((2**num_qubits, 2**num_qubits))\n",
    "projector[0, 0] = 1\n",
    "\n",
    "\n",
    "@qml.qnode(dev_kernel)\n",
    "def kernel(x1, x2):\n",
    "    \"\"\"The quantum kernel.\"\"\"\n",
    "    x1 = np.array(x1).reshape(4, 4)\n",
    "    x2 = np.array(x2).reshape(4, 4)\n",
    "\n",
    "    qml.QubitUnitary(x1, wires=range(num_qubits))\n",
    "    qml.adjoint(qml.QubitUnitary)(x2, wires=range(num_qubits))\n",
    "    return qml.expval(qml.Hermitian(projector, wires=range(num_qubits)))"
   ]
  },
  {
   "cell_type": "code",
   "execution_count": 6,
   "metadata": {
    "ExecuteTime": {
     "end_time": "2024-02-29T21:02:02.822075690Z",
     "start_time": "2024-02-29T21:02:02.815012760Z"
    }
   },
   "outputs": [],
   "source": [
    "def kernel_matrix(A, B):\n",
    "    \"\"\"Compute the matrix whose entries are the kernel\n",
    "       evaluated on pairwise data from sets A and B.\"\"\"\n",
    "    return np.array([[kernel(a, b) for b in B] for a in A])"
   ]
  },
  {
   "cell_type": "markdown",
   "source": [
    "### QSVM training and testing"
   ],
   "metadata": {
    "collapsed": false
   }
  },
  {
   "cell_type": "code",
   "execution_count": 7,
   "metadata": {
    "ExecuteTime": {
     "end_time": "2024-02-29T21:06:16.301069190Z",
     "start_time": "2024-02-29T21:02:08.787801745Z"
    }
   },
   "outputs": [],
   "source": [
    "svm = SVC(kernel=kernel_matrix).fit(X_train, y_train)"
   ]
  },
  {
   "cell_type": "code",
   "execution_count": 8,
   "metadata": {
    "ExecuteTime": {
     "end_time": "2024-02-29T21:57:07.794518978Z",
     "start_time": "2024-02-29T21:06:16.300783506Z"
    }
   },
   "outputs": [
    {
     "data": {
      "text/plain": "0.54375"
     },
     "execution_count": 8,
     "metadata": {},
     "output_type": "execute_result"
    }
   ],
   "source": [
    "predictions_train = svm.predict(X_train)\n",
    "accuracy_score(predictions_train, y_train)"
   ]
  },
  {
   "cell_type": "code",
   "execution_count": 9,
   "metadata": {
    "ExecuteTime": {
     "end_time": "2024-02-29T21:58:04.844943273Z",
     "start_time": "2024-02-29T21:57:07.833625514Z"
    }
   },
   "outputs": [
    {
     "data": {
      "text/plain": "0.525"
     },
     "execution_count": 9,
     "metadata": {},
     "output_type": "execute_result"
    }
   ],
   "source": [
    "predictions_test = svm.predict(X_test)\n",
    "accuracy_score(predictions_test, y_test)"
   ]
  }
 ],
 "metadata": {
  "kernelspec": {
   "display_name": "QML",
   "language": "python",
   "name": "python3"
  },
  "language_info": {
   "codemirror_mode": {
    "name": "ipython",
    "version": 3
   },
   "file_extension": ".py",
   "mimetype": "text/x-python",
   "name": "python",
   "nbconvert_exporter": "python",
   "pygments_lexer": "ipython3",
   "version": "3.9.18"
  }
 },
 "nbformat": 4,
 "nbformat_minor": 2
}
